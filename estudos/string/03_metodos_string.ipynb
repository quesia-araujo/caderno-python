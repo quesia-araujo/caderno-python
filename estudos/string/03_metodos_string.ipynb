{
 "cells": [
  {
   "cell_type": "markdown",
   "metadata": {},
   "source": [
    "# Métodos de String\n",
    "\n",
    "## Estrutura:\n",
    "\n",
    "- Normalmente usamos a estrutura:<br>\n",
    "texto.método() \n",
    "\n",
    "- Alguns métodos pedem \"argumentos\"."
   ]
  },
  {
   "cell_type": "markdown",
   "metadata": {},
   "source": [
    "- capitalize() -> Coloca a 1ª letra Maiúscula"
   ]
  },
  {
   "cell_type": "raw",
   "metadata": {},
   "source": [
    "    Uso: \n",
    "        texto = 'quesia'\n",
    "        print(texto.capitalize())\n",
    "    Resultado: \n",
    "        'Quesia'"
   ]
  },
  {
   "cell_type": "markdown",
   "metadata": {},
   "source": [
    "- casefold() -> Transforma todas as letras em minúsculas (existe lower() mas o casefold é melhor normalmente)"
   ]
  },
  {
   "cell_type": "raw",
   "metadata": {},
   "source": [
    "    Uso: \n",
    "        texto = 'Quesia'\n",
    "        print(texto.casefold())\n",
    "    Resultado: \n",
    "        'quesia'"
   ]
  },
  {
   "cell_type": "markdown",
   "metadata": {},
   "source": [
    "- count()\t-> Quantidade de vezes que um valor aparece na string"
   ]
  },
  {
   "cell_type": "raw",
   "metadata": {},
   "source": [
    "    Uso:\n",
    "        texto = 'quesia@yahoo.com.br'\n",
    "        print(texto.count('.'))\n",
    "    Resultado:\n",
    "        2"
   ]
  },
  {
   "cell_type": "markdown",
   "metadata": {},
   "source": [
    "- endswith() -> Verifica se o texto termina com um valor específico e dá como resposta True ou False"
   ]
  },
  {
   "cell_type": "raw",
   "metadata": {},
   "source": [
    "    Uso:\n",
    "        texto = 'quesia@gmail.com'\n",
    "        print(texto.endswith('gmail.com'))\n",
    "    Resultado:\n",
    "        True"
   ]
  },
  {
   "cell_type": "markdown",
   "metadata": {},
   "source": [
    "- find() -> Procura um texto dentro de outro texto e dá como resposta a posição do texto encontrado"
   ]
  },
  {
   "cell_type": "raw",
   "metadata": {},
   "source": [
    "    Uso:\n",
    "        texto = 'quesia@gmail.com'\n",
    "        print(texto.find('@'))\n",
    "    Resultado:\n",
    "        6"
   ]
  },
  {
   "cell_type": "markdown",
   "metadata": {},
   "source": [
    "- format() -> Formata uma string de acordo com os valores passados."
   ]
  },
  {
   "cell_type": "raw",
   "metadata": {},
   "source": [
    "    Uso:\n",
    "        faturamento = 1000\n",
    "        print('O faturamento da loja foi de {} reais'.format(faturamento))\n",
    "    Resultado:\n",
    "        'O faturamento da loja foi de 1000 reais'"
   ]
  },
  {
   "cell_type": "markdown",
   "metadata": {},
   "source": [
    "- isalnum() -> Verifica se um texto é todo feito com caracteres alfanuméricos (letras e números) -> letras com acento ou ç são considerados letras para essa função."
   ]
  },
  {
   "cell_type": "raw",
   "metadata": {},
   "source": [
    "    Uso:\n",
    "        texto = 'quesia123'\n",
    "        print(texto.isalnum())\n",
    "    Resultado:\n",
    "        True\n",
    "    Obs: se o texto fosse 'Que~ia' ou então 'Quesia#' o resultado seria False "
   ]
  },
  {
   "cell_type": "markdown",
   "metadata": {},
   "source": [
    "- isalpha() -> Verifica se um texto é todo feito de letras."
   ]
  },
  {
   "cell_type": "raw",
   "metadata": {},
   "source": [
    "    Uso:\n",
    "        texto = 'Quesia'\n",
    "        print(texto.isalpha())\n",
    "    Resultado:\n",
    "        True\n",
    "    Obs: nesse caso se o texto fosse 'Quesia123' o resultado seria False, porque 123 não são letras."
   ]
  },
  {
   "cell_type": "markdown",
   "metadata": {},
   "source": [
    "- isnumeric()\t-> Verifica se um texto é todo feito por números."
   ]
  },
  {
   "cell_type": "raw",
   "metadata": {},
   "source": [
    "    Uso:\n",
    "        texto = '123'\n",
    "        print(texto.isnumeric())\n",
    "    Resultado:\n",
    "        True\n",
    "    Obs: existem os métodos isdigit() e isdecimal() que tem variações pontuais em caracteres especiais tipo textos com frações e potências, mas para 99% dos casos eles não vão ser necessários."
   ]
  },
  {
   "cell_type": "markdown",
   "metadata": {},
   "source": [
    "- replace() -> Substitui um texto por um outro texto em uma string."
   ]
  },
  {
   "cell_type": "raw",
   "metadata": {},
   "source": [
    "    Uso:\n",
    "        texto = '1000.00'\n",
    "        print(texto.replace('.', ','))\n",
    "    Resultado\n",
    "        '1000,00'\n",
    "    Obs: o replace precisa de 2 argumentos para funcionar. O 1º é o texto que você quer trocar. O 2º é o texto que você quer colocar no lugar daquele texto que você está tirando."
   ]
  },
  {
   "cell_type": "markdown",
   "metadata": {},
   "source": [
    "- split()\t-> Separa uma string de acordo com um delimitador em vários textos diferentes."
   ]
  },
  {
   "cell_type": "raw",
   "metadata": {},
   "source": [
    "    Uso:\n",
    "        texto = 'lira@gmail.com'\n",
    "        print(texto.split('@'))\n",
    "    Resultado:\n",
    "        ['lira', 'gmail.com']\n"
   ]
  },
  {
   "cell_type": "markdown",
   "metadata": {},
   "source": [
    "- splitlines() -> separa um texto em vários textos de acordo com os \"enters\" do texto"
   ]
  },
  {
   "cell_type": "raw",
   "metadata": {},
   "source": [
    "    Uso:\n",
    "        texto = '''Olá, bom dia\n",
    "        Venho por meio desse e-mail lhe informar o faturamento da loja no dia de hoje.\n",
    "        Faturamento = R$2.500,00\n",
    "        '''\n",
    "        print(texto.splitlines())\n",
    "    Resultado:\n",
    "        ['Olá, bom dia', 'Venho por meio desse e-mail lhe informar o faturamento da loja no dia de hoje.', 'Faturamento = R$2.500,00']"
   ]
  },
  {
   "cell_type": "markdown",
   "metadata": {},
   "source": [
    "- startswith() -> Verifica se a string começa com determinado texto"
   ]
  },
  {
   "cell_type": "raw",
   "metadata": {},
   "source": [
    "    Uso:\n",
    "        texto = 'BEB123453'\n",
    "        print(texto.startswith('BEB'))\n",
    "    Resultado:\n",
    "        True"
   ]
  },
  {
   "cell_type": "markdown",
   "metadata": {},
   "source": [
    "- strip()\t-> Retira caracteres indesejados dos textos. Por padrão, retira espaços \"extras\" no início e no final"
   ]
  },
  {
   "cell_type": "raw",
   "metadata": {},
   "source": [
    "    Uso:\n",
    "        texto = ' BEB123453 '\n",
    "        print(texto.strip())\n",
    "    Resultado:\n",
    "        'BEB123453'"
   ]
  },
  {
   "cell_type": "markdown",
   "metadata": {},
   "source": [
    "- title() -> Coloca a 1ª letra de cada palavra em maiúscula"
   ]
  },
  {
   "cell_type": "raw",
   "metadata": {},
   "source": [
    "    Uso:\n",
    "        texto = 'quesia araujo'\n",
    "        print(texto.title())\n",
    "    Resultado:\n",
    "        'Quesia Araujo'"
   ]
  },
  {
   "cell_type": "markdown",
   "metadata": {},
   "source": [
    "- upper()\t-> Coloca o texto todo em letra maiúscula"
   ]
  },
  {
   "cell_type": "raw",
   "metadata": {},
   "source": [
    "    Uso:\n",
    "        texto = 'beb12343'\n",
    "        print(texto.upper())\n",
    "    Resultado:\n",
    "        'BEB12343'"
   ]
  }
 ],
 "metadata": {
  "kernelspec": {
   "display_name": "Python 3",
   "language": "python",
   "name": "python3"
  },
  "language_info": {
   "codemirror_mode": {
    "name": "ipython",
    "version": 3
   },
   "file_extension": ".py",
   "mimetype": "text/x-python",
   "name": "python",
   "nbconvert_exporter": "python",
   "pygments_lexer": "ipython3",
   "version": "3.8.3"
  }
 },
 "nbformat": 4,
 "nbformat_minor": 4
}
