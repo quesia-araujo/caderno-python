{
 "cells": [
  {
   "cell_type": "raw",
   "metadata": {},
   "source": [
    "Texto: ola\n",
    "\n",
    " -3 -2 -1\n",
    "  o  l  a\n",
    "  0  1  2  \n",
    "  \n",
    "Para pegar um texto de trás para frente: texto[índice] -> onde índice é negativo\n",
    "Para pegar o pedaço de um texto use : (dois pontos). texto[:indice] ou texto[indice:] ou ainda texto[indice:indice]"
   ]
  },
  {
   "cell_type": "code",
   "execution_count": 1,
   "metadata": {},
   "outputs": [],
   "source": [
    "email = 'quesia@gmail.com'\n",
    "nome = 'Quesia'"
   ]
  },
  {
   "cell_type": "code",
   "execution_count": 2,
   "metadata": {},
   "outputs": [
    {
     "name": "stdout",
     "output_type": "stream",
     "text": [
      "quesi\n",
      "uesi\n",
      "a@gmail.com\n"
     ]
    }
   ],
   "source": [
    "print(email[:5])\n",
    "print(email[1:5])\n",
    "print(email[5:])"
   ]
  }
 ],
 "metadata": {
  "kernelspec": {
   "display_name": "Python 3",
   "language": "python",
   "name": "python3"
  },
  "language_info": {
   "codemirror_mode": {
    "name": "ipython",
    "version": 3
   },
   "file_extension": ".py",
   "mimetype": "text/x-python",
   "name": "python",
   "nbconvert_exporter": "python",
   "pygments_lexer": "ipython3",
   "version": "3.11.1"
  }
 },
 "nbformat": 4,
 "nbformat_minor": 4
}
